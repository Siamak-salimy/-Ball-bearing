{
  "nbformat": 4,
  "nbformat_minor": 0,
  "metadata": {
    "colab": {
      "provenance": []
    },
    "kernelspec": {
      "name": "python3",
      "display_name": "Python 3"
    },
    "language_info": {
      "name": "python"
    }
  },
  "cells": [
    {
      "cell_type": "code",
      "source": [
        "from google.colab import drive\n",
        "drive.mount('/content/drive')\n",
        "\n",
        "!ls 'drive/My Drive'\n",
        "# تعریف مسیر"
      ],
      "metadata": {
        "id": "4c7rHRoq6Bo6"
      },
      "execution_count": null,
      "outputs": []
    },
    {
      "cell_type": "code",
      "execution_count": null,
      "metadata": {
        "id": "-tWhpCq4480u"
      },
      "outputs": [],
      "source": [
        "pip install pillow numpy pandas\n"
      ]
    },
    {
      "cell_type": "code",
      "source": [
        "from PIL import Image\n",
        "import numpy as np\n",
        "import pandas as pd\n",
        "imagepath='/content/drive/MyDrive/ball.jpg'\n",
        "csvpath='/content/drive/MyDrive'"
      ],
      "metadata": {
        "id": "rl-akW5g50aU"
      },
      "execution_count": 9,
      "outputs": []
    },
    {
      "cell_type": "code",
      "source": [
        "\n",
        "def image_to_vector(image_path='/content/drive/MyDrive/1.jpg',csv_path='/content/drive/MyDrive'):\n",
        "    # Open the image file\n",
        "    img = Image.open(image_path)\n",
        "\n",
        "    # Convert the image to grayscale (optional, depends on your needs)\n",
        "    img = img.convert('L')\n",
        "\n",
        "    # Resize the image if needed (optional, depends on your needs)\n",
        "    img = img.resize((28, 28), Image.ANTIALIAS)\n",
        "\n",
        "    # Convert image to a numpy array\n",
        "    img_array = np.array(img)\n",
        "\n",
        "    # Normalize the pixel values (optional, to have values between 0 and 1)\n",
        "    img_array = img_array.astype('float32') / 255.0\n",
        "\n",
        "    # Flatten the array to convert it to a vector\n",
        "    img_vector = img_array.flatten()\n",
        "\n",
        "    # Convert the vector to a DataFrame\n",
        "    vector_df = pd.DataFrame(img_vector).T  # Transpose to have a single row\n",
        "\n",
        "    # Save the DataFrame to a CSV file\n",
        "    vector_df.to_csv(csv_path, index=False)\n",
        "\n",
        "# Replace 'path_to_your_image.jpg' with the path to the image you want to convert\n",
        "# Replace 'output_vector.csv' with the path where you want to save the CSV file\n",
        "image_to_vector('/content/drive/MyDrive/1.jpg', '/content/drive/MyDrive/1.csv')\n",
        "\n",
        "print(\"Image has been converted to a vector and saved as a CSV file.\")\n"
      ],
      "metadata": {
        "colab": {
          "base_uri": "https://localhost:8080/"
        },
        "id": "IjpLfDX85lQ5",
        "outputId": "abd82985-fbfd-4d7d-dcb3-c430cf7251b4"
      },
      "execution_count": 14,
      "outputs": [
        {
          "output_type": "stream",
          "name": "stdout",
          "text": [
            "Image has been converted to a vector and saved as a CSV file.\n"
          ]
        },
        {
          "output_type": "stream",
          "name": "stderr",
          "text": [
            "<ipython-input-14-17965029a4fd>:9: DeprecationWarning: ANTIALIAS is deprecated and will be removed in Pillow 10 (2023-07-01). Use LANCZOS or Resampling.LANCZOS instead.\n",
            "  img = img.resize((28, 28), Image.ANTIALIAS)\n"
          ]
        }
      ]
    }
  ]
}