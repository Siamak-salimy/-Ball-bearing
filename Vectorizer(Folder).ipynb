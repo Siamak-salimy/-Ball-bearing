{
  "nbformat": 4,
  "nbformat_minor": 0,
  "metadata": {
    "colab": {
      "provenance": []
    },
    "kernelspec": {
      "name": "python3",
      "display_name": "Python 3"
    },
    "language_info": {
      "name": "python"
    }
  },
  "cells": [
    {
      "cell_type": "code",
      "source": [
        "\n",
        "pip install numpy"
      ],
      "metadata": {
        "colab": {
          "base_uri": "https://localhost:8080/"
        },
        "id": "Z_N3U0i23tRi",
        "outputId": "ff478d1b-6c08-42fb-aa70-7a0ca9c7fe7c"
      },
      "execution_count": null,
      "outputs": [
        {
          "output_type": "stream",
          "name": "stdout",
          "text": [
            "Requirement already satisfied: numpy in /usr/local/lib/python3.10/dist-packages (1.25.2)\n"
          ]
        }
      ]
    },
    {
      "cell_type": "code",
      "source": [
        "import cv2\n",
        "import numpy as np\n",
        "import os\n",
        "import csv"
      ],
      "metadata": {
        "id": "txOTZ1ur4Nrn"
      },
      "execution_count": null,
      "outputs": []
    },
    {
      "cell_type": "code",
      "source": [
        "import os\n",
        "import cv2\n",
        "import numpy as np\n",
        "import pandas as pd\n",
        "\n",
        "def vectorize_images_and_save_to_excel(image_folder, excel_file, resize_dim=(100, 100)):\n",
        "    image_vectors = []\n",
        "    image_names = []\n",
        "\n",
        "    # Loop through each file in the image folder\n",
        "    for filename in os.listdir(image_folder):\n",
        "        if filename.endswith(\".JPG\") or filename.endswith(\".jpeg\"):\n",
        "            file_path = os.path.join(image_folder, filename)\n",
        "            image = cv2.imread(file_path, cv2.IMREAD_GRAYSCALE)\n",
        "            if image is not None:\n",
        "                # Resize the image\n",
        "                image = cv2.resize(image, resize_dim)\n",
        "                # Flatten the image to create a vector\n",
        "                image_vector = image.flatten()\n",
        "                image_vectors.append(image_vector)\n",
        "                image_names.append(filename)\n",
        "\n",
        "    # Create a DataFrame from the image vectors\n",
        "    image_vectors_df = pd.DataFrame(image_vectors, index=image_names)\n",
        "\n",
        "    # Save the DataFrame to an Excel file\n",
        "    image_vectors_df.to_excel(excel_file, index=True, header=False)\n",
        "\n",
        "# Specify the folder containing the JPEG images and the output Excel file path\n",
        "image_folder = '/content/drive/MyDrive/SKF/TrainModelImages'\n",
        "excel_file = '/content/drive/MyDrive/SKF/TrainModelImages/image_vectors.xlsx'\n",
        "\n",
        "# Run the function with resizing\n",
        "vectorize_images_and_save_to_excel(image_folder, excel_file)\n"
      ],
      "metadata": {
        "id": "Ksco0p8iIFv4"
      },
      "execution_count": 62,
      "outputs": []
    }
  ]
}